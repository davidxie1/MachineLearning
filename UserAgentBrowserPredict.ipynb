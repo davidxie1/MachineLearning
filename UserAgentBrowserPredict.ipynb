{
 "cells": [
  {
   "cell_type": "raw",
   "metadata": {
    "colab_type": "text",
    "collapsed": true,
    "id": "kR-4eNdK6lYS"
   },
   "source": [
    "# User Agent Browser Prediction\n",
    "=============\n",
    "\n",
    "Liangjun Xie, 05/14/2017 \n",
    "------------\n"
   ]
  },
  {
   "cell_type": "code",
   "execution_count": 23,
   "metadata": {
    "cellView": "both",
    "colab": {
     "autoexec": {
      "startup": false,
      "wait_interval": 0
     }
    },
    "colab_type": "code",
    "collapsed": false,
    "id": "JLpLa8Jt7Vu4"
   },
   "outputs": [],
   "source": [
    "\n",
    "import pandas as pd  \n",
    "import numpy as np   "
   ]
  },
  {
   "cell_type": "code",
   "execution_count": 21,
   "metadata": {
    "collapsed": true
   },
   "outputs": [],
   "source": [
    "import os\n",
    "import re\n",
    "\n",
    "try:\n",
    "    import cPickle as pickle\n",
    "except:\n",
    "    import pickle"
   ]
  },
  {
   "cell_type": "code",
   "execution_count": 24,
   "metadata": {
    "collapsed": false
   },
   "outputs": [
    {
     "data": {
      "text/html": [
       "<div>\n",
       "<table border=\"1\" class=\"dataframe\">\n",
       "  <thead>\n",
       "    <tr style=\"text-align: right;\">\n",
       "      <th></th>\n",
       "      <th>Uastr</th>\n",
       "      <th>browser</th>\n",
       "      <th>version</th>\n",
       "    </tr>\n",
       "  </thead>\n",
       "  <tbody>\n",
       "    <tr>\n",
       "      <th>0</th>\n",
       "      <td>Mozilla/5.0 (Windows NT 6.2) AppleWebKit/537.3...</td>\n",
       "      <td>Chrome</td>\n",
       "      <td>39</td>\n",
       "    </tr>\n",
       "    <tr>\n",
       "      <th>1</th>\n",
       "      <td>Mozilla/5.0 (Linux; Android 4.1.1; GT-N8010 Bu...</td>\n",
       "      <td>Chrome</td>\n",
       "      <td>54</td>\n",
       "    </tr>\n",
       "    <tr>\n",
       "      <th>2</th>\n",
       "      <td>Mozilla/5.0 (Windows NT 6.3; WOW64) AppleWebKi...</td>\n",
       "      <td>Chrome</td>\n",
       "      <td>39</td>\n",
       "    </tr>\n",
       "    <tr>\n",
       "      <th>3</th>\n",
       "      <td>Mozilla/5.0 (Windows NT 6.3; Win64; x64) Apple...</td>\n",
       "      <td>Chrome</td>\n",
       "      <td>45</td>\n",
       "    </tr>\n",
       "    <tr>\n",
       "      <th>4</th>\n",
       "      <td>Mozilla/5.0 (Windows NT 6.2) AppleWebKit/537.3...</td>\n",
       "      <td>Chrome</td>\n",
       "      <td>37</td>\n",
       "    </tr>\n",
       "  </tbody>\n",
       "</table>\n",
       "</div>"
      ],
      "text/plain": [
       "                                               Uastr browser version\n",
       "0  Mozilla/5.0 (Windows NT 6.2) AppleWebKit/537.3...  Chrome      39\n",
       "1  Mozilla/5.0 (Linux; Android 4.1.1; GT-N8010 Bu...  Chrome      54\n",
       "2  Mozilla/5.0 (Windows NT 6.3; WOW64) AppleWebKi...  Chrome      39\n",
       "3  Mozilla/5.0 (Windows NT 6.3; Win64; x64) Apple...  Chrome      45\n",
       "4  Mozilla/5.0 (Windows NT 6.2) AppleWebKit/537.3...  Chrome      37"
      ]
     },
     "execution_count": 24,
     "metadata": {},
     "output_type": "execute_result"
    }
   ],
   "source": [
    "data = pd.read_csv('data_coding_exercise.txt', sep=\"\\t\", header = None, names=[\"Uastr\", \"browser\", \"version\"])\n",
    "data.head() "
   ]
  },
  {
   "cell_type": "code",
   "execution_count": 27,
   "metadata": {
    "collapsed": false
   },
   "outputs": [],
   "source": [
    "browDict = {\"Chrome\":0, \"Chrome Mobile\":1, \"Chrome Mobile iOS\":2,\n",
    "\"Safari\":3, \"Mobile Safari\":4,\n",
    "\"IE\":5, \"IE Mobile\":6,\n",
    "\"Edge\":7, \"Edge Mobile\":8,\n",
    "\"Firefox\":9, \"Firefox Mobile\":10, \"Firefox iOS\":11,\n",
    "\"Opera\":12, \"Opera Mobile\":13, \"Opera Mini\":14,\n",
    "\"UC Browser\":15, \"Sogou Explorer\":16,\n",
    "\"QQ Browser\":17, \"QQ Browser Mobile\":18,\n",
    "\"Maxthon\":19, \"AOL\":20, \"Facebook\":21,\n",
    "\"AppleMail\":22, \"Puffin\":23, \"Android\":24, \"YandexSearch\":25, \"BlackBerry WebKit\":26, \"Amazon Silk\":27}"
   ]
  },
  {
   "cell_type": "markdown",
   "metadata": {
    "colab_type": "text",
    "id": "1HrCK6e17WzV"
   },
   "source": [
    "check the data."
   ]
  },
  {
   "cell_type": "code",
   "execution_count": 29,
   "metadata": {
    "collapsed": false
   },
   "outputs": [
    {
     "data": {
      "text/plain": [
       "0    Mozilla/5.0 (Windows NT 6.2) AppleWebKit/537.3...\n",
       "1    Mozilla/5.0 (Linux; Android 4.1.1; GT-N8010 Bu...\n",
       "2    Mozilla/5.0 (Windows NT 6.3; WOW64) AppleWebKi...\n",
       "3    Mozilla/5.0 (Windows NT 6.3; Win64; x64) Apple...\n",
       "4    Mozilla/5.0 (Windows NT 6.2) AppleWebKit/537.3...\n",
       "Name: Uastr, dtype: object"
      ]
     },
     "execution_count": 29,
     "metadata": {},
     "output_type": "execute_result"
    }
   ],
   "source": [
    "uas_df = data.Uastr\n",
    "uas_df.head() "
   ]
  },
  {
   "cell_type": "code",
   "execution_count": 30,
   "metadata": {
    "collapsed": true
   },
   "outputs": [],
   "source": [
    "keyWords = [\"Mozilla\", \"Windows\", \"AppleWebKit\", \"KHTML\", \"Chrome\", \"Safari\", \"Linux\", \"GT-N8010\", \"WOW64\", \n",
    "            \"Win64\", \"Mobile\", \"FBAV\", \"Trident\", \"Lenovo\", \"en-gb\", \"HUAWEI\",  \"UCBrowser\", \"U3\", \"MSIE\", \"IEMobile\",\n",
    "            \"GSA\", \"Firefox\", \"FxiOS\", \"Tablet\", \"Gecko\", \"YandexSearch\", \"like\", \"QQBrowser\", \"Macintosh\", \"Micromax\", \"hola_android\",\n",
    "           \"Android 2\", \"Android 4\", \"Android 5\", \"Android 6\", \"MetaSr\" \"Edge\", \"Opera Mini\",\"OPR\", \"MQQBrowser\", \"BB10\", \n",
    "            \"Intel Mac OS X 10\", \"AOL\", \"CriOS\", \"BlackBerry\", \"Puffin\", \"Silk\", \"SE 2.X MetaSr\"]"
   ]
  },
  {
   "cell_type": "code",
   "execution_count": 53,
   "metadata": {
    "collapsed": false
   },
   "outputs": [
    {
     "name": "stdout",
     "output_type": "stream",
     "text": [
      "(421215, 3)\n",
      "47\n"
     ]
    }
   ],
   "source": [
    "print(data.shape)\n",
    "print(len(keyWords))\n"
   ]
  },
  {
   "cell_type": "markdown",
   "metadata": {},
   "source": [
    "Build the attributes matrix for features"
   ]
  },
  {
   "cell_type": "code",
   "execution_count": 54,
   "metadata": {
    "collapsed": false
   },
   "outputs": [],
   "source": [
    "strs = ['' for x in range((data.shape)[0])]"
   ]
  },
  {
   "cell_type": "code",
   "execution_count": 58,
   "metadata": {
    "collapsed": false
   },
   "outputs": [],
   "source": [
    "for i in range(0, len(uas_df)):\n",
    "    str1 = uas_df.iloc[i]\n",
    "    st = ''\n",
    "    for word in keyWords:\n",
    "        if str1.find(word) >= 0:\n",
    "            if len(st) == 0: st = word\n",
    "            else:\n",
    "                st = st +'|' + word\n",
    "    strs[i] = st;\n"
   ]
  },
  {
   "cell_type": "code",
   "execution_count": 59,
   "metadata": {
    "collapsed": false
   },
   "outputs": [
    {
     "data": {
      "text/plain": [
       "'Mozilla|Windows|AppleWebKit|KHTML|Chrome|Safari|Gecko|like'"
      ]
     },
     "execution_count": 59,
     "metadata": {},
     "output_type": "execute_result"
    }
   ],
   "source": [
    "strs[0]"
   ]
  },
  {
   "cell_type": "markdown",
   "metadata": {},
   "source": [
    "Digitize the y"
   ]
  },
  {
   "cell_type": "code",
   "execution_count": 64,
   "metadata": {
    "collapsed": true
   },
   "outputs": [],
   "source": [
    "y1 = np.zeros((data.shape)[0])"
   ]
  },
  {
   "cell_type": "code",
   "execution_count": 66,
   "metadata": {
    "collapsed": false
   },
   "outputs": [],
   "source": [
    "for i in range(0, len(uas_df)):\n",
    "    str1 = data.browser.iloc[i]\n",
    "    y1[i] = browDict[str1]"
   ]
  },
  {
   "cell_type": "markdown",
   "metadata": {},
   "source": [
    "the feature matrix, string to num"
   ]
  },
  {
   "cell_type": "code",
   "execution_count": 75,
   "metadata": {
    "collapsed": true
   },
   "outputs": [],
   "source": [
    "data_1 = pd.DataFrame({'atts':strs})"
   ]
  },
  {
   "cell_type": "code",
   "execution_count": 83,
   "metadata": {
    "collapsed": false
   },
   "outputs": [],
   "source": [
    "data_x = data_1.atts.str.get_dummies(sep='|')"
   ]
  },
  {
   "cell_type": "code",
   "execution_count": 84,
   "metadata": {
    "collapsed": false
   },
   "outputs": [
    {
     "data": {
      "text/html": [
       "<div>\n",
       "<table border=\"1\" class=\"dataframe\">\n",
       "  <thead>\n",
       "    <tr style=\"text-align: right;\">\n",
       "      <th></th>\n",
       "      <th>AOL</th>\n",
       "      <th>Android 2</th>\n",
       "      <th>Android 4</th>\n",
       "      <th>Android 5</th>\n",
       "      <th>Android 6</th>\n",
       "      <th>AppleWebKit</th>\n",
       "      <th>BB10</th>\n",
       "      <th>BlackBerry</th>\n",
       "      <th>Chrome</th>\n",
       "      <th>CriOS</th>\n",
       "      <th>...</th>\n",
       "      <th>Trident</th>\n",
       "      <th>U3</th>\n",
       "      <th>UCBrowser</th>\n",
       "      <th>WOW64</th>\n",
       "      <th>Win64</th>\n",
       "      <th>Windows</th>\n",
       "      <th>YandexSearch</th>\n",
       "      <th>en-gb</th>\n",
       "      <th>hola_android</th>\n",
       "      <th>like</th>\n",
       "    </tr>\n",
       "  </thead>\n",
       "  <tbody>\n",
       "    <tr>\n",
       "      <th>0</th>\n",
       "      <td>0</td>\n",
       "      <td>0</td>\n",
       "      <td>0</td>\n",
       "      <td>0</td>\n",
       "      <td>0</td>\n",
       "      <td>1</td>\n",
       "      <td>0</td>\n",
       "      <td>0</td>\n",
       "      <td>1</td>\n",
       "      <td>0</td>\n",
       "      <td>...</td>\n",
       "      <td>0</td>\n",
       "      <td>0</td>\n",
       "      <td>0</td>\n",
       "      <td>0</td>\n",
       "      <td>0</td>\n",
       "      <td>1</td>\n",
       "      <td>0</td>\n",
       "      <td>0</td>\n",
       "      <td>0</td>\n",
       "      <td>1</td>\n",
       "    </tr>\n",
       "    <tr>\n",
       "      <th>1</th>\n",
       "      <td>0</td>\n",
       "      <td>0</td>\n",
       "      <td>1</td>\n",
       "      <td>0</td>\n",
       "      <td>0</td>\n",
       "      <td>1</td>\n",
       "      <td>0</td>\n",
       "      <td>0</td>\n",
       "      <td>1</td>\n",
       "      <td>0</td>\n",
       "      <td>...</td>\n",
       "      <td>0</td>\n",
       "      <td>0</td>\n",
       "      <td>0</td>\n",
       "      <td>0</td>\n",
       "      <td>0</td>\n",
       "      <td>0</td>\n",
       "      <td>0</td>\n",
       "      <td>0</td>\n",
       "      <td>0</td>\n",
       "      <td>1</td>\n",
       "    </tr>\n",
       "    <tr>\n",
       "      <th>2</th>\n",
       "      <td>0</td>\n",
       "      <td>0</td>\n",
       "      <td>0</td>\n",
       "      <td>0</td>\n",
       "      <td>0</td>\n",
       "      <td>1</td>\n",
       "      <td>0</td>\n",
       "      <td>0</td>\n",
       "      <td>1</td>\n",
       "      <td>0</td>\n",
       "      <td>...</td>\n",
       "      <td>0</td>\n",
       "      <td>0</td>\n",
       "      <td>0</td>\n",
       "      <td>1</td>\n",
       "      <td>0</td>\n",
       "      <td>1</td>\n",
       "      <td>0</td>\n",
       "      <td>0</td>\n",
       "      <td>0</td>\n",
       "      <td>1</td>\n",
       "    </tr>\n",
       "    <tr>\n",
       "      <th>3</th>\n",
       "      <td>0</td>\n",
       "      <td>0</td>\n",
       "      <td>0</td>\n",
       "      <td>0</td>\n",
       "      <td>0</td>\n",
       "      <td>1</td>\n",
       "      <td>0</td>\n",
       "      <td>0</td>\n",
       "      <td>1</td>\n",
       "      <td>0</td>\n",
       "      <td>...</td>\n",
       "      <td>0</td>\n",
       "      <td>0</td>\n",
       "      <td>0</td>\n",
       "      <td>0</td>\n",
       "      <td>1</td>\n",
       "      <td>1</td>\n",
       "      <td>0</td>\n",
       "      <td>0</td>\n",
       "      <td>0</td>\n",
       "      <td>1</td>\n",
       "    </tr>\n",
       "    <tr>\n",
       "      <th>4</th>\n",
       "      <td>0</td>\n",
       "      <td>0</td>\n",
       "      <td>0</td>\n",
       "      <td>0</td>\n",
       "      <td>0</td>\n",
       "      <td>1</td>\n",
       "      <td>0</td>\n",
       "      <td>0</td>\n",
       "      <td>1</td>\n",
       "      <td>0</td>\n",
       "      <td>...</td>\n",
       "      <td>0</td>\n",
       "      <td>0</td>\n",
       "      <td>0</td>\n",
       "      <td>0</td>\n",
       "      <td>0</td>\n",
       "      <td>1</td>\n",
       "      <td>0</td>\n",
       "      <td>0</td>\n",
       "      <td>0</td>\n",
       "      <td>1</td>\n",
       "    </tr>\n",
       "  </tbody>\n",
       "</table>\n",
       "<p>5 rows × 46 columns</p>\n",
       "</div>"
      ],
      "text/plain": [
       "   AOL  Android 2  Android 4  Android 5  Android 6  AppleWebKit  BB10  \\\n",
       "0    0          0          0          0          0            1     0   \n",
       "1    0          0          1          0          0            1     0   \n",
       "2    0          0          0          0          0            1     0   \n",
       "3    0          0          0          0          0            1     0   \n",
       "4    0          0          0          0          0            1     0   \n",
       "\n",
       "   BlackBerry  Chrome  CriOS  ...   Trident  U3  UCBrowser  WOW64  Win64  \\\n",
       "0           0       1      0  ...         0   0          0      0      0   \n",
       "1           0       1      0  ...         0   0          0      0      0   \n",
       "2           0       1      0  ...         0   0          0      1      0   \n",
       "3           0       1      0  ...         0   0          0      0      1   \n",
       "4           0       1      0  ...         0   0          0      0      0   \n",
       "\n",
       "   Windows  YandexSearch  en-gb  hola_android  like  \n",
       "0        1             0      0             0     1  \n",
       "1        0             0      0             0     1  \n",
       "2        1             0      0             0     1  \n",
       "3        1             0      0             0     1  \n",
       "4        1             0      0             0     1  \n",
       "\n",
       "[5 rows x 46 columns]"
      ]
     },
     "execution_count": 84,
     "metadata": {},
     "output_type": "execute_result"
    }
   ],
   "source": [
    "data_x.head()"
   ]
  },
  {
   "cell_type": "code",
   "execution_count": 85,
   "metadata": {
    "collapsed": true
   },
   "outputs": [],
   "source": [
    "data_y = pd.DataFrame({'y':y1})"
   ]
  },
  {
   "cell_type": "code",
   "execution_count": 87,
   "metadata": {
    "collapsed": true
   },
   "outputs": [],
   "source": [
    "data_new = pd.concat([data_y, data_x], axis=1) "
   ]
  },
  {
   "cell_type": "code",
   "execution_count": 88,
   "metadata": {
    "collapsed": true
   },
   "outputs": [],
   "source": [
    "#from sklearn.linear_model import SGDClassifier\n",
    "import sklearn\n",
    "\n",
    "train, test = sklearn.cross_validation.train_test_split(data_new, train_size = 0.7)\n"
   ]
  },
  {
   "cell_type": "code",
   "execution_count": 96,
   "metadata": {
    "collapsed": false
   },
   "outputs": [],
   "source": [
    "from sklearn.linear_model import SGDClassifier\n",
    "\n",
    "Xtrain = train.values\n",
    "Xtest = test.values\n"
   ]
  },
  {
   "cell_type": "code",
   "execution_count": 103,
   "metadata": {
    "collapsed": false
   },
   "outputs": [],
   "source": [
    "\n",
    "train_x = Xtrain[:,1:]\n",
    "train_y = Xtrain[:,0]\n",
    "test_x  = Xtest[:,1:]\n",
    "test_y  = Xtest[:,0]"
   ]
  },
  {
   "cell_type": "markdown",
   "metadata": {
    "colab_type": "text",
    "id": "L7aHrm6nGDMB"
   },
   "source": [
    "Reformat into a shape that's more adapted to the models we're going to train:\n",
    "- data as a flat matrix,\n",
    "- labels as float 1-hot encodings."
   ]
  },
  {
   "cell_type": "code",
   "execution_count": 105,
   "metadata": {
    "collapsed": false
   },
   "outputs": [
    {
     "data": {
      "text/plain": [
       "SGDClassifier(alpha=0.0001, average=False, class_weight=None, epsilon=0.1,\n",
       "       eta0=0.0, fit_intercept=True, l1_ratio=0.15,\n",
       "       learning_rate='optimal', loss='hinge', n_iter=5, n_jobs=1,\n",
       "       penalty='l2', power_t=0.5, random_state=None, shuffle=True,\n",
       "       verbose=0, warm_start=False)"
      ]
     },
     "execution_count": 105,
     "metadata": {},
     "output_type": "execute_result"
    }
   ],
   "source": [
    "from sklearn import linear_model\n",
    "\n",
    "clf = linear_model.SGDClassifier();\n",
    "clf.fit(train_x, train_y)"
   ]
  },
  {
   "cell_type": "code",
   "execution_count": 106,
   "metadata": {
    "collapsed": true
   },
   "outputs": [],
   "source": [
    "y_test_pred = clf.predict(test_x)"
   ]
  },
  {
   "cell_type": "code",
   "execution_count": 107,
   "metadata": {
    "collapsed": true
   },
   "outputs": [],
   "source": [
    "ratio = sum(y_test_pred == test_y)/test_y.shape[0]"
   ]
  },
  {
   "cell_type": "code",
   "execution_count": 108,
   "metadata": {
    "collapsed": false
   },
   "outputs": [
    {
     "name": "stdout",
     "output_type": "stream",
     "text": [
      "0.994547540854\n"
     ]
    }
   ],
   "source": [
    "print(ratio)"
   ]
  },
  {
   "cell_type": "code",
   "execution_count": 109,
   "metadata": {
    "collapsed": true
   },
   "outputs": [],
   "source": [
    "browDictRev = {0:\"Chrome\", 1:\"Chrome Mobile\", 2:\"Chrome Mobile iOS\", 3:\"Safari\", 4:\"Mobile Safari\", 5:\"IE\", 6:\"IE Mobile\",\n",
    "        7:\"Edge\", 8:\"Edge Mobile\", 9:\"Firefox\", 10:\"Firefox Mobile\", 11:\"Firefox iOS\", 12:\"Opera\", 13:\"Opera Mobile\", 14:\"Opera Mini\",\n",
    "        15:\"UC Browser\", 16:\"Sogou Explorer\", 17:\"QQ Browser\", 18:\"QQ Browser Mobile\", 19:\"Maxthon\", 20:\"AOL\", 21:\"Facebook\",\n",
    "        22:\"AppleMail\", 23:\"Puffin\", 24:\"Android\", 25:\"YandexSearch\", 26:\"BlackBerry WebKit\", 27:\"Amazon Silk\"}"
   ]
  },
  {
   "cell_type": "markdown",
   "metadata": {},
   "source": [
    "Load the data in test file"
   ]
  },
  {
   "cell_type": "code",
   "execution_count": 128,
   "metadata": {
    "collapsed": false
   },
   "outputs": [
    {
     "data": {
      "text/plain": [
       "(2, 46)"
      ]
     },
     "execution_count": 128,
     "metadata": {},
     "output_type": "execute_result"
    }
   ],
   "source": [
    "test_data = pd.read_csv('test_data_coding_exercise.txt', sep=\"\\t\", header = None, names=[\"Uastr\", \"browser\", \"version\"])\n",
    "uas_df_test = test_data.Uastr\n",
    "\n",
    "row = int((test_data.shape)[0])\n",
    "col = int(data_x.shape[1])\n",
    "\n",
    "val = train_x[0:row,:]\n",
    "val.fill(0)\n",
    "val.shape\n"
   ]
  },
  {
   "cell_type": "code",
   "execution_count": 136,
   "metadata": {
    "collapsed": false
   },
   "outputs": [
    {
     "name": "stdout",
     "output_type": "stream",
     "text": [
      "['AOL' 'Android 2' 'Android 4' 'Android 5' 'Android 6' 'AppleWebKit' 'BB10'\n",
      " 'BlackBerry' 'Chrome' 'CriOS' 'FBAV' 'Firefox' 'FxiOS' 'GSA' 'GT-N8010'\n",
      " 'Gecko' 'HUAWEI' 'IEMobile' 'Intel Mac OS X 10' 'KHTML' 'Lenovo' 'Linux'\n",
      " 'MQQBrowser' 'MSIE' 'Macintosh' 'Micromax' 'Mobile' 'Mozilla' 'OPR'\n",
      " 'Opera Mini' 'Puffin' 'QQBrowser' 'SE 2.X MetaSr' 'Safari' 'Silk' 'Tablet'\n",
      " 'Trident' 'U3' 'UCBrowser' 'WOW64' 'Win64' 'Windows' 'YandexSearch'\n",
      " 'en-gb' 'hola_android' 'like']\n"
     ]
    }
   ],
   "source": [
    "print(data_x.columns.values)"
   ]
  },
  {
   "cell_type": "markdown",
   "metadata": {},
   "source": [
    "Build the test data matrix with the same order as the training matrix"
   ]
  },
  {
   "cell_type": "code",
   "execution_count": 138,
   "metadata": {
    "cellView": "both",
    "colab": {
     "autoexec": {
      "startup": false,
      "wait_interval": 0
     },
     "output_extras": [
      {
       "item_id": 1
      }
     ]
    },
    "colab_type": "code",
    "collapsed": false,
    "executionInfo": {
     "elapsed": 11728,
     "status": "ok",
     "timestamp": 1449849322356,
     "user": {
      "color": "",
      "displayName": "",
      "isAnonymous": false,
      "isMe": true,
      "permissionId": "",
      "photoUrl": "",
      "sessionId": "0",
      "userId": ""
     },
     "user_tz": 480
    },
    "id": "IRSyYiIIGIzS",
    "outputId": "3f8996ee-3574-4f44-c953-5c8a04636582"
   },
   "outputs": [
    {
     "name": "stdout",
     "output_type": "stream",
     "text": [
      "[ 0.  0.]\n"
     ]
    }
   ],
   "source": [
    "names = data_x.columns.values\n",
    "\n",
    "for i in range(0, len(uas_df_test)):\n",
    "    str1 = uas_df_test.iloc[i]\n",
    "    st = ''\n",
    "    for word in keyWords:\n",
    "        if str1.find(word) >= 0:\n",
    "            for j in range(0, col):\n",
    "                if names[j] == word:\n",
    "                    val[i][j] = 1\n",
    "\n",
    "y1_test = np.zeros((test_data.shape)[0])\n",
    "for i in range(0, len(uas_df_test)):\n",
    "    str1 = test_data.browser.iloc[i]\n",
    "    y1_test[i] = browDict[str1]\n",
    "    \n",
    "data_x_test\n",
    "\n",
    "y_test_pred = clf.predict(val)\n",
    "print(y_test_pred)"
   ]
  },
  {
   "cell_type": "code",
   "execution_count": 142,
   "metadata": {
    "collapsed": false
   },
   "outputs": [
    {
     "name": "stdout",
     "output_type": "stream",
     "text": [
      "['Chrome', 'Chrome']\n"
     ]
    }
   ],
   "source": [
    "strs_pred = ['' for x in range(len(y_test_pred))]\n",
    "strs_ver = ['null' for x in range(len(y_test_pred))]\n",
    "\n",
    "for i in range(len(y_test_pred)):\n",
    "    strs_pred[i] = browDictRev[y_test_pred[i]];\n",
    "    \n",
    "print(strs_pred)"
   ]
  },
  {
   "cell_type": "code",
   "execution_count": 143,
   "metadata": {
    "collapsed": false
   },
   "outputs": [
    {
     "data": {
      "text/plain": [
       "(2, 4)"
      ]
     },
     "execution_count": 143,
     "metadata": {},
     "output_type": "execute_result"
    }
   ],
   "source": [
    "data_test_pred = pd.DataFrame({'pred':strs_pred})\n",
    "data_new_test = pd.concat([test_data, data_test_pred], axis=1) \n",
    "data_new_test.shape"
   ]
  },
  {
   "cell_type": "code",
   "execution_count": 144,
   "metadata": {
    "collapsed": false
   },
   "outputs": [
    {
     "data": {
      "text/plain": [
       "(2, 5)"
      ]
     },
     "execution_count": 144,
     "metadata": {},
     "output_type": "execute_result"
    }
   ],
   "source": [
    "data_test_ver = pd.DataFrame({'ver_pred':strs_ver})\n",
    "data_new_test = pd.concat([data_new_test, data_test_ver], axis=1) \n",
    "data_new_test.shape"
   ]
  },
  {
   "cell_type": "code",
   "execution_count": 145,
   "metadata": {
    "cellView": "both",
    "colab": {
     "autoexec": {
      "startup": false,
      "wait_interval": 0
     }
    },
    "colab_type": "code",
    "collapsed": true,
    "id": "RajPLaL_ZW6w"
   },
   "outputs": [],
   "source": [
    "data_new_test.to_csv(\"test_result_predict.txt\", header=None, index=None, sep='\\t')"
   ]
  }
 ],
 "metadata": {
  "anaconda-cloud": {},
  "colab": {
   "default_view": {},
   "name": "3_regularization.ipynb",
   "provenance": [],
   "version": "0.3.2",
   "views": {}
  },
  "kernelspec": {
   "display_name": "Python [default]",
   "language": "python",
   "name": "python3"
  },
  "language_info": {
   "codemirror_mode": {
    "name": "ipython",
    "version": 3
   },
   "file_extension": ".py",
   "mimetype": "text/x-python",
   "name": "python",
   "nbconvert_exporter": "python",
   "pygments_lexer": "ipython3",
   "version": "3.5.2"
  }
 },
 "nbformat": 4,
 "nbformat_minor": 0
}
